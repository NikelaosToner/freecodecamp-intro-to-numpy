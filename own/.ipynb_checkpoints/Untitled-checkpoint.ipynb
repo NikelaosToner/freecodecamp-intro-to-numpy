{
 "cells": [
  {
   "cell_type": "markdown",
   "id": "e9519c1e",
   "metadata": {},
   "source": [
    "## Basic NumPy Arrays\n",
    "\n",
    "Vectors \n",
    "\n",
    "1. Create a nparray from a list, a dict and a tuple.\n",
    "\n",
    "2. Index elements using slice notation and element by element notation. Try to get an array output and a non-array output.\n"
   ]
  },
  {
   "cell_type": "code",
   "execution_count": 15,
   "id": "e7cc71a6",
   "metadata": {},
   "outputs": [],
   "source": [
    "import numpy as np\n",
    "import sys"
   ]
  },
  {
   "cell_type": "code",
   "execution_count": 3,
   "id": "7caa1298",
   "metadata": {},
   "outputs": [
    {
     "data": {
      "text/plain": [
       "array([1, 2, 3, 4])"
      ]
     },
     "execution_count": 3,
     "metadata": {},
     "output_type": "execute_result"
    }
   ],
   "source": [
    "from_list = np.array([1, 2, 3, 4])\n",
    "from_list"
   ]
  },
  {
   "cell_type": "code",
   "execution_count": 4,
   "id": "dffebd32",
   "metadata": {},
   "outputs": [
    {
     "data": {
      "text/plain": [
       "array([1, 2, 3, 4])"
      ]
     },
     "execution_count": 4,
     "metadata": {},
     "output_type": "execute_result"
    }
   ],
   "source": [
    "from_tuple = np.array((1, 2, 3, 4))\n",
    "from_tuple"
   ]
  },
  {
   "cell_type": "code",
   "execution_count": 6,
   "id": "881def77",
   "metadata": {},
   "outputs": [
    {
     "data": {
      "text/plain": [
       "array({1, 2, 3, 4}, dtype=object)"
      ]
     },
     "execution_count": 6,
     "metadata": {},
     "output_type": "execute_result"
    }
   ],
   "source": [
    "from_dict = np.array({1, 2, 3, 4})\n",
    "from_dict"
   ]
  },
  {
   "cell_type": "markdown",
   "id": "4d70b408",
   "metadata": {},
   "source": [
    "From a dict is diferent than expected"
   ]
  },
  {
   "cell_type": "code",
   "execution_count": 8,
   "id": "a8c79875",
   "metadata": {},
   "outputs": [],
   "source": [
    "fl = from_tuple\n",
    "ft = from_list"
   ]
  },
  {
   "cell_type": "code",
   "execution_count": 10,
   "id": "53590f62",
   "metadata": {},
   "outputs": [
    {
     "data": {
      "text/plain": [
       "(1, 4)"
      ]
     },
     "execution_count": 10,
     "metadata": {},
     "output_type": "execute_result"
    }
   ],
   "source": [
    "fl[0], fl[3]"
   ]
  },
  {
   "cell_type": "code",
   "execution_count": 11,
   "id": "60d3604d",
   "metadata": {},
   "outputs": [
    {
     "data": {
      "text/plain": [
       "array([1, 4])"
      ]
     },
     "execution_count": 11,
     "metadata": {},
     "output_type": "execute_result"
    }
   ],
   "source": [
    "fl[[0, 3]]"
   ]
  },
  {
   "cell_type": "code",
   "execution_count": 12,
   "id": "984cb443",
   "metadata": {},
   "outputs": [
    {
     "data": {
      "text/plain": [
       "array([1, 2])"
      ]
     },
     "execution_count": 12,
     "metadata": {},
     "output_type": "execute_result"
    }
   ],
   "source": [
    "fl[0:2]"
   ]
  },
  {
   "cell_type": "markdown",
   "id": "b1f944cd",
   "metadata": {},
   "source": [
    "## Data Type\n",
    "\n",
    "1. Display the dtype of one or more arrays.\n",
    "\n",
    "2. Create an array and make explicit the dtype.\n"
   ]
  },
  {
   "cell_type": "code",
   "execution_count": 13,
   "id": "79d32112",
   "metadata": {},
   "outputs": [
    {
     "data": {
      "text/plain": [
       "dtype('int64')"
      ]
     },
     "execution_count": 13,
     "metadata": {},
     "output_type": "execute_result"
    }
   ],
   "source": [
    "fl.dtype"
   ]
  },
  {
   "cell_type": "code",
   "execution_count": 16,
   "id": "ca445fd3",
   "metadata": {},
   "outputs": [
    {
     "name": "stderr",
     "output_type": "stream",
     "text": [
      "<ipython-input-16-c60b087236f5>:1: VisibleDeprecationWarning: Creating an ndarray from ragged nested sequences (which is a list-or-tuple of lists-or-tuples-or ndarrays with different lengths or shapes) is deprecated. If you meant to do this, you must specify 'dtype=object' when creating the ndarray.\n",
      "  np.array([[1,2], sys]).dtype\n"
     ]
    },
    {
     "data": {
      "text/plain": [
       "dtype('O')"
      ]
     },
     "execution_count": 16,
     "metadata": {},
     "output_type": "execute_result"
    }
   ],
   "source": [
    "np.array([[1,2], sys]).dtype"
   ]
  },
  {
   "cell_type": "code",
   "execution_count": 17,
   "id": "92f0fa72",
   "metadata": {},
   "outputs": [],
   "source": [
    "a = np.array([1, 2, 3, 4], dtype = np.int8)"
   ]
  },
  {
   "cell_type": "code",
   "execution_count": 18,
   "id": "7ddbad35",
   "metadata": {},
   "outputs": [
    {
     "data": {
      "text/plain": [
       "array([1, 2, 3, 4], dtype=int8)"
      ]
     },
     "execution_count": 18,
     "metadata": {},
     "output_type": "execute_result"
    }
   ],
   "source": [
    "a"
   ]
  },
  {
   "cell_type": "code",
   "execution_count": 19,
   "id": "37c18e34",
   "metadata": {},
   "outputs": [
    {
     "name": "stderr",
     "output_type": "stream",
     "text": [
      "<ipython-input-19-ceca0504a9f1>:1: DeprecationWarning: `np.float` is a deprecated alias for the builtin `float`. To silence this warning, use `float` by itself. Doing this will not modify any behavior and is safe. If you specifically wanted the numpy scalar type, use `np.float64` here.\n",
      "Deprecated in NumPy 1.20; for more details and guidance: https://numpy.org/devdocs/release/1.20.0-notes.html#deprecations\n",
      "  b = np.array((1, 2, 3, 4), dtype=np.float)\n"
     ]
    }
   ],
   "source": [
    "b = np.array((1, 2, 3, 4), dtype=np.float)"
   ]
  },
  {
   "cell_type": "code",
   "execution_count": 20,
   "id": "22a7e06b",
   "metadata": {},
   "outputs": [
    {
     "data": {
      "text/plain": [
       "dtype('float64')"
      ]
     },
     "execution_count": 20,
     "metadata": {},
     "output_type": "execute_result"
    }
   ],
   "source": [
    "b.dtype"
   ]
  },
  {
   "cell_type": "markdown",
   "id": "b4f68f1e",
   "metadata": {},
   "source": [
    "## Matrix, dimensions and shapes\n",
    "\n",
    "1. Use shape, ndim and size over a nparray.\n",
    "\n",
    "2. Create a non-consistent array an display its type. "
   ]
  },
  {
   "cell_type": "code",
   "execution_count": 21,
   "id": "cc0003bc",
   "metadata": {},
   "outputs": [],
   "source": [
    "matrix = np.array([[1, 2, 3],\n",
    "                   [4, 5, 6],\n",
    "                   [7, 8, 9]])"
   ]
  },
  {
   "cell_type": "code",
   "execution_count": 22,
   "id": "bbc19de1",
   "metadata": {},
   "outputs": [
    {
     "data": {
      "text/plain": [
       "array([[1, 2, 3],\n",
       "       [4, 5, 6],\n",
       "       [7, 8, 9]])"
      ]
     },
     "execution_count": 22,
     "metadata": {},
     "output_type": "execute_result"
    }
   ],
   "source": [
    "matrix"
   ]
  },
  {
   "cell_type": "code",
   "execution_count": 23,
   "id": "c498a417",
   "metadata": {},
   "outputs": [
    {
     "data": {
      "text/plain": [
       "(3, 3)"
      ]
     },
     "execution_count": 23,
     "metadata": {},
     "output_type": "execute_result"
    }
   ],
   "source": [
    "matrix.shape"
   ]
  },
  {
   "cell_type": "code",
   "execution_count": 24,
   "id": "c9efa736",
   "metadata": {},
   "outputs": [
    {
     "data": {
      "text/plain": [
       "2"
      ]
     },
     "execution_count": 24,
     "metadata": {},
     "output_type": "execute_result"
    }
   ],
   "source": [
    "matrix.ndim"
   ]
  },
  {
   "cell_type": "code",
   "execution_count": 25,
   "id": "5b050532",
   "metadata": {},
   "outputs": [
    {
     "data": {
      "text/plain": [
       "9"
      ]
     },
     "execution_count": 25,
     "metadata": {},
     "output_type": "execute_result"
    }
   ],
   "source": [
    "matrix.size"
   ]
  },
  {
   "cell_type": "code",
   "execution_count": 26,
   "id": "7038aedf",
   "metadata": {},
   "outputs": [
    {
     "data": {
      "text/plain": [
       "array([[[ 1,  2,  3],\n",
       "        [ 4,  5,  6],\n",
       "        [ 7,  8,  9]],\n",
       "\n",
       "       [[10, 11, 12],\n",
       "        [13, 14, 15],\n",
       "        [16, 17, 18]],\n",
       "\n",
       "       [[19, 20, 21],\n",
       "        [22, 23, 24],\n",
       "        [25, 26, 27]]])"
      ]
     },
     "execution_count": 26,
     "metadata": {},
     "output_type": "execute_result"
    }
   ],
   "source": [
    "m2 = np.array([[[1, 2, 3], [4, 5, 6], [7,8,9]], \n",
    "               [[10,11,12], [13,14,15], [16,17,18]],\n",
    "               [[19,20,21], [22,23,24], [25,26,27]]])\n",
    "m2"
   ]
  },
  {
   "cell_type": "code",
   "execution_count": 28,
   "id": "0f38ed2f",
   "metadata": {},
   "outputs": [
    {
     "data": {
      "text/plain": [
       "(3, 3, 3)"
      ]
     },
     "execution_count": 28,
     "metadata": {},
     "output_type": "execute_result"
    }
   ],
   "source": [
    "m2.shape"
   ]
  },
  {
   "cell_type": "code",
   "execution_count": 29,
   "id": "f8d51cba",
   "metadata": {},
   "outputs": [
    {
     "data": {
      "text/plain": [
       "3"
      ]
     },
     "execution_count": 29,
     "metadata": {},
     "output_type": "execute_result"
    }
   ],
   "source": [
    "m2.ndim"
   ]
  },
  {
   "cell_type": "code",
   "execution_count": 30,
   "id": "cfbc4f4d",
   "metadata": {},
   "outputs": [
    {
     "data": {
      "text/plain": [
       "27"
      ]
     },
     "execution_count": 30,
     "metadata": {},
     "output_type": "execute_result"
    }
   ],
   "source": [
    "m2.size"
   ]
  },
  {
   "cell_type": "code",
   "execution_count": 34,
   "id": "f8b44867",
   "metadata": {},
   "outputs": [
    {
     "data": {
      "text/plain": [
       "27"
      ]
     },
     "execution_count": 34,
     "metadata": {},
     "output_type": "execute_result"
    }
   ],
   "source": [
    "m2[2][2][2]"
   ]
  },
  {
   "cell_type": "markdown",
   "id": "42182990",
   "metadata": {},
   "source": [
    "# Index and slicing of matrices\n",
    "\n",
    "1. Index columns and rows with slices. \n",
    "2. replace rows or columns in a matrix with a vector."
   ]
  },
  {
   "cell_type": "code",
   "execution_count": 35,
   "id": "f2475ef6",
   "metadata": {},
   "outputs": [
    {
     "data": {
      "text/plain": [
       "array([[1, 2, 3],\n",
       "       [4, 5, 6],\n",
       "       [7, 8, 9]])"
      ]
     },
     "execution_count": 35,
     "metadata": {},
     "output_type": "execute_result"
    }
   ],
   "source": [
    "matrix"
   ]
  },
  {
   "cell_type": "code",
   "execution_count": 37,
   "id": "321a08ee",
   "metadata": {},
   "outputs": [
    {
     "data": {
      "text/plain": [
       "array([[5, 6],\n",
       "       [8, 9]])"
      ]
     },
     "execution_count": 37,
     "metadata": {},
     "output_type": "execute_result"
    }
   ],
   "source": [
    "matrix[1:,1:]"
   ]
  },
  {
   "cell_type": "code",
   "execution_count": 38,
   "id": "b4876fb6",
   "metadata": {},
   "outputs": [
    {
     "data": {
      "text/plain": [
       "5"
      ]
     },
     "execution_count": 38,
     "metadata": {},
     "output_type": "execute_result"
    }
   ],
   "source": [
    "matrix[1,1]"
   ]
  },
  {
   "cell_type": "code",
   "execution_count": 40,
   "id": "9e66a40e",
   "metadata": {},
   "outputs": [
    {
     "data": {
      "text/plain": [
       "array([[      1,       2,       3],\n",
       "       [      4, 1000000,       6],\n",
       "       [      7,       8,       9]])"
      ]
     },
     "execution_count": 40,
     "metadata": {},
     "output_type": "execute_result"
    }
   ],
   "source": [
    "matrix[1,1] = 1000000\n",
    "matrix"
   ]
  },
  {
   "cell_type": "code",
   "execution_count": 43,
   "id": "cd29da62",
   "metadata": {},
   "outputs": [
    {
     "data": {
      "text/plain": [
       "array([[1, 2, 3],\n",
       "       [0, 0, 0],\n",
       "       [7, 8, 9]])"
      ]
     },
     "execution_count": 43,
     "metadata": {},
     "output_type": "execute_result"
    }
   ],
   "source": [
    "matrix[1]=0\n",
    "matrix"
   ]
  },
  {
   "cell_type": "code",
   "execution_count": 44,
   "id": "0992fc61",
   "metadata": {},
   "outputs": [
    {
     "data": {
      "text/plain": [
       "array([[1, 0, 3],\n",
       "       [0, 0, 0],\n",
       "       [7, 0, 9]])"
      ]
     },
     "execution_count": 44,
     "metadata": {},
     "output_type": "execute_result"
    }
   ],
   "source": [
    "matrix[:,1]=0\n",
    "matrix"
   ]
  },
  {
   "cell_type": "markdown",
   "id": "663ffdab",
   "metadata": {},
   "source": [
    "## Summary Statistics\n",
    "\n",
    "1. Create a vector and a matrix. Aply over them sum, mean, std, var, cumsum, prod, cumprod.\n",
    "\n",
    "2. Aply the same operations over axis in the matrix only. "
   ]
  },
  {
   "cell_type": "code",
   "execution_count": 47,
   "id": "57f3c645",
   "metadata": {},
   "outputs": [],
   "source": [
    "vec = np.array([7, 6, 5, 4, 3, 2, 1])\n",
    "mat = np.array([[1, 1, 1],\n",
    "               [2, 2, 2],\n",
    "               [3, 3, 3]])"
   ]
  },
  {
   "cell_type": "code",
   "execution_count": 49,
   "id": "f6d39c67",
   "metadata": {},
   "outputs": [
    {
     "data": {
      "text/plain": [
       "array([   7,   42,  210,  840, 2520, 5040, 5040])"
      ]
     },
     "execution_count": 49,
     "metadata": {},
     "output_type": "execute_result"
    }
   ],
   "source": [
    "vec.cumprod()"
   ]
  },
  {
   "cell_type": "code",
   "execution_count": 51,
   "id": "7d68ce68",
   "metadata": {},
   "outputs": [
    {
     "data": {
      "text/plain": [
       "array([ 1,  2,  3,  5,  7,  9, 12, 15, 18])"
      ]
     },
     "execution_count": 51,
     "metadata": {},
     "output_type": "execute_result"
    }
   ],
   "source": [
    "mat.cumsum()"
   ]
  },
  {
   "cell_type": "code",
   "execution_count": 53,
   "id": "6a5a279f",
   "metadata": {},
   "outputs": [
    {
     "data": {
      "text/plain": [
       "2.0"
      ]
     },
     "execution_count": 53,
     "metadata": {},
     "output_type": "execute_result"
    }
   ],
   "source": [
    "mat.mean()"
   ]
  },
  {
   "cell_type": "code",
   "execution_count": 55,
   "id": "64da7856",
   "metadata": {},
   "outputs": [
    {
     "data": {
      "text/plain": [
       "0.816496580927726"
      ]
     },
     "execution_count": 55,
     "metadata": {},
     "output_type": "execute_result"
    }
   ],
   "source": [
    "mat.std()"
   ]
  },
  {
   "cell_type": "code",
   "execution_count": 56,
   "id": "f17d6229",
   "metadata": {},
   "outputs": [
    {
     "data": {
      "text/plain": [
       "0.6666666666666666"
      ]
     },
     "execution_count": 56,
     "metadata": {},
     "output_type": "execute_result"
    }
   ],
   "source": [
    "mat.var()"
   ]
  },
  {
   "cell_type": "code",
   "execution_count": 57,
   "id": "8c200826",
   "metadata": {},
   "outputs": [
    {
     "data": {
      "text/plain": [
       "array([6, 6, 6])"
      ]
     },
     "execution_count": 57,
     "metadata": {},
     "output_type": "execute_result"
    }
   ],
   "source": [
    "mat.sum(axis = 0)"
   ]
  },
  {
   "cell_type": "code",
   "execution_count": 58,
   "id": "d625781b",
   "metadata": {},
   "outputs": [
    {
     "data": {
      "text/plain": [
       "array([3, 6, 9])"
      ]
     },
     "execution_count": 58,
     "metadata": {},
     "output_type": "execute_result"
    }
   ],
   "source": [
    "mat.sum(axis = 1)"
   ]
  },
  {
   "cell_type": "markdown",
   "id": "e19ab542",
   "metadata": {},
   "source": [
    "## Broadcasting and vectorized operations\n",
    "\n",
    "1. create vectors and operate them with basic math operators (+, -, *, etc)\n",
    "\n",
    "2. operate vectors and matrices"
   ]
  },
  {
   "cell_type": "code",
   "execution_count": 67,
   "id": "d26c8c9b",
   "metadata": {},
   "outputs": [],
   "source": [
    "v1 = np.arange(11)\n",
    "v2 = np.array([10,9,8,7,6,5,4,3,2,1,0])"
   ]
  },
  {
   "cell_type": "code",
   "execution_count": 68,
   "id": "26cb1b9f",
   "metadata": {},
   "outputs": [
    {
     "data": {
      "text/plain": [
       "array([10, 10, 10, 10, 10, 10, 10, 10, 10, 10, 10])"
      ]
     },
     "execution_count": 68,
     "metadata": {},
     "output_type": "execute_result"
    }
   ],
   "source": [
    "v1+v2"
   ]
  },
  {
   "cell_type": "code",
   "execution_count": 69,
   "id": "fc4ac5e6",
   "metadata": {},
   "outputs": [
    {
     "data": {
      "text/plain": [
       "array([ 0,  9, 16, 21, 24, 25, 24, 21, 16,  9,  0])"
      ]
     },
     "execution_count": 69,
     "metadata": {},
     "output_type": "execute_result"
    }
   ],
   "source": [
    "v1*v2"
   ]
  },
  {
   "cell_type": "code",
   "execution_count": 74,
   "id": "f5c4b40a",
   "metadata": {},
   "outputs": [
    {
     "data": {
      "text/plain": [
       "array([ 0.1 ,  0.22,  0.38,  0.57,  0.83,  1.2 ,  1.75,  2.67,  4.5 ,\n",
       "       10.  ])"
      ]
     },
     "execution_count": 74,
     "metadata": {},
     "output_type": "execute_result"
    }
   ],
   "source": [
    "np.array(v1[1:]/v2[:-1]).round(2)"
   ]
  },
  {
   "cell_type": "code",
   "execution_count": 75,
   "id": "e63f2a8a",
   "metadata": {},
   "outputs": [
    {
     "data": {
      "text/plain": [
       "array([40, 40, 40, 40, 40, 40, 40, 40, 40, 40, 40])"
      ]
     },
     "execution_count": 75,
     "metadata": {},
     "output_type": "execute_result"
    }
   ],
   "source": [
    "(v1+v2)*4"
   ]
  },
  {
   "cell_type": "code",
   "execution_count": 79,
   "id": "20657e7d",
   "metadata": {},
   "outputs": [
    {
     "data": {
      "text/plain": [
       "array([1.  , 0.5 , 0.33, 0.25, 0.2 , 0.17, 0.14, 0.12, 0.11, 0.1 ])"
      ]
     },
     "execution_count": 79,
     "metadata": {},
     "output_type": "execute_result"
    }
   ],
   "source": [
    "(1/v1[1:]).round(2)"
   ]
  },
  {
   "cell_type": "code",
   "execution_count": 81,
   "id": "68d79ca2",
   "metadata": {},
   "outputs": [
    {
     "data": {
      "text/plain": [
       "array([100.  ,  50.  ,  33.33,  25.  ,  20.  ,  16.67,  14.29,  12.5 ,\n",
       "        11.11,  10.  ])"
      ]
     },
     "execution_count": 81,
     "metadata": {},
     "output_type": "execute_result"
    }
   ],
   "source": [
    "((1/v1[1:])*100).round(2)"
   ]
  },
  {
   "cell_type": "markdown",
   "id": "fb274762",
   "metadata": {},
   "source": [
    "## Boolean Arrays\n",
    "\n",
    "1. Index over a vector manually using booleans. \n",
    "2. make a query over a non boolean type vector which returns a boolean.\n",
    "3. use the last query (or another) for make a real query over the vector.\n",
    "4. use a math operator as .mean() for to do a query.\n",
    "5. do the same with a matrix\n",
    "6. Use |, &, ==, ^ operators in your querys"
   ]
  },
  {
   "cell_type": "code",
   "execution_count": 85,
   "id": "b2f459fb",
   "metadata": {},
   "outputs": [
    {
     "data": {
      "text/plain": [
       "array([0])"
      ]
     },
     "execution_count": 85,
     "metadata": {},
     "output_type": "execute_result"
    }
   ],
   "source": [
    "v3 = np.arange(4)\n",
    "v3[[True, False, False, False]]"
   ]
  },
  {
   "cell_type": "code",
   "execution_count": 86,
   "id": "653ee66e",
   "metadata": {},
   "outputs": [
    {
     "data": {
      "text/plain": [
       "array([False,  True, False, False])"
      ]
     },
     "execution_count": 86,
     "metadata": {},
     "output_type": "execute_result"
    }
   ],
   "source": [
    "v3 == 1"
   ]
  },
  {
   "cell_type": "code",
   "execution_count": 87,
   "id": "95a3fcc1",
   "metadata": {},
   "outputs": [
    {
     "data": {
      "text/plain": [
       "array([1])"
      ]
     },
     "execution_count": 87,
     "metadata": {},
     "output_type": "execute_result"
    }
   ],
   "source": [
    "v3[v3 == 1]"
   ]
  },
  {
   "cell_type": "code",
   "execution_count": 88,
   "id": "81130ace",
   "metadata": {},
   "outputs": [
    {
     "data": {
      "text/plain": [
       "array([False, False, False, False, False, False,  True,  True,  True,\n",
       "        True,  True])"
      ]
     },
     "execution_count": 88,
     "metadata": {},
     "output_type": "execute_result"
    }
   ],
   "source": [
    "v4 = np.arange(11)\n",
    "v4 > v4.mean() "
   ]
  },
  {
   "cell_type": "code",
   "execution_count": 89,
   "id": "9efca9cf",
   "metadata": {},
   "outputs": [
    {
     "data": {
      "text/plain": [
       "array([False, False, False, False,  True,  True,  True,  True,  True,\n",
       "        True,  True])"
      ]
     },
     "execution_count": 89,
     "metadata": {},
     "output_type": "execute_result"
    }
   ],
   "source": [
    "(v4>v4.mean()) | (v4>v4.std())"
   ]
  },
  {
   "cell_type": "code",
   "execution_count": 90,
   "id": "c1d0c1e5",
   "metadata": {},
   "outputs": [
    {
     "data": {
      "text/plain": [
       "array([False, False, False, False, False, False,  True,  True,  True,\n",
       "        True,  True])"
      ]
     },
     "execution_count": 90,
     "metadata": {},
     "output_type": "execute_result"
    }
   ],
   "source": [
    "(v4>v4.mean()) & (v4>v4.std()) "
   ]
  },
  {
   "cell_type": "code",
   "execution_count": 91,
   "id": "6334cbe7",
   "metadata": {},
   "outputs": [
    {
     "data": {
      "text/plain": [
       "array([False,  True, False, False, False, False, False, False, False,\n",
       "       False, False])"
      ]
     },
     "execution_count": 91,
     "metadata": {},
     "output_type": "execute_result"
    }
   ],
   "source": [
    "v4 == 1"
   ]
  },
  {
   "cell_type": "code",
   "execution_count": 92,
   "id": "b3f56736",
   "metadata": {},
   "outputs": [
    {
     "data": {
      "text/plain": [
       "array([ 1,  0,  3,  2,  5,  4,  7,  6,  9,  8, 11])"
      ]
     },
     "execution_count": 92,
     "metadata": {},
     "output_type": "execute_result"
    }
   ],
   "source": [
    "v4 ^ 1"
   ]
  }
 ],
 "metadata": {
  "kernelspec": {
   "display_name": "Python 3",
   "language": "python",
   "name": "python3"
  },
  "language_info": {
   "codemirror_mode": {
    "name": "ipython",
    "version": 3
   },
   "file_extension": ".py",
   "mimetype": "text/x-python",
   "name": "python",
   "nbconvert_exporter": "python",
   "pygments_lexer": "ipython3",
   "version": "3.9.5"
  }
 },
 "nbformat": 4,
 "nbformat_minor": 5
}
